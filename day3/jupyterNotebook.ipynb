{
 "cells": [
  {
   "cell_type": "markdown",
   "metadata": {},
   "source": [
    "# Juypter-Notebook\n",
    "\n",
    "*Brief introdution to Jupyter-Notebook.*"
   ]
  },
  {
   "cell_type": "markdown",
   "metadata": {},
   "source": [
    "This is an example of `Markdown cell`.\n",
    "\n",
    "\n",
    "To execute the cell press `shift+enter`."
   ]
  },
  {
   "cell_type": "markdown",
   "metadata": {},
   "source": [
    "Some syntax examples:\n",
    "\n",
    "# This is a level 1 heading\n",
    "## This is a level 2 heading\n",
    "### This is a level 3 heading\n",
    "\n",
    "- This is a bullet point\n",
    "- This is another bullet point\n",
    "\n",
    "1. This is a numbered list\n",
    "2. This is another item\n",
    "\n",
    "[This is a link](https://youtube.com)\n",
    "\n",
    "\n",
    "| This is a table | With two columns |\n",
    "| --------------- | ---------------- |\n",
    "| This is row 1   | This is row 1    |\n",
    "| This is row 2   | This is row 2    |\n",
    "\n",
    "You can also use LaTeX to write mathematical expressions, such as $y = mx + b$ or $$\\int_{a}^{b} f(x) dx$$"
   ]
  },
  {
   "cell_type": "code",
   "execution_count": null,
   "metadata": {},
   "outputs": [],
   "source": [
    "# This is an example of code cell\n",
    "# Here, we can write pythons codes and execute them\n",
    "a = 4"
   ]
  },
  {
   "cell_type": "code",
   "execution_count": null,
   "metadata": {},
   "outputs": [],
   "source": [
    "print(a)"
   ]
  },
  {
   "cell_type": "code",
   "execution_count": null,
   "metadata": {},
   "outputs": [],
   "source": [
    "a -= 1\n",
    "a"
   ]
  },
  {
   "cell_type": "markdown",
   "metadata": {},
   "source": [
    "## Introduction to Google Colab\n"
   ]
  },
  {
   "cell_type": "markdown",
   "metadata": {},
   "source": [
    "### What is Google Colab?\n",
    "\n",
    "A free cloud-based Jupyter notebook environment for writing and executing Python code.\n",
    "No setup required - works directly in your browser.\n",
    "Perfect for data analysis, machine learning, and education."
   ]
  },
  {
   "cell_type": "markdown",
   "metadata": {},
   "source": [
    "### Key Features:\n",
    "\n",
    "* __Free GPU and TPU access__: Accelerate your computations with free access to powerful hardware.\n",
    "* __Easy data import__: Load data from Google Drive, Sheets, and other sources.\n",
    "* __Code sharing__: Share your notebooks with others and collaborate in real-time.\n",
    "* __Extensive library support__: Access a wide range of Python libraries for data analysis, visualization, and machine learning."
   ]
  },
  {
   "cell_type": "markdown",
   "metadata": {},
   "source": [
    "### Getting Started:\n",
    "\n",
    "* Visit https://colab.research.google.com to access Colab.\n",
    "* Create a new notebook by clicking `New` -> `Notebook`.\n",
    "* Select the desired runtime type (Python 2 or 3)."
   ]
  },
  {
   "cell_type": "markdown",
   "metadata": {},
   "source": [
    "### Resources:\n",
    "\n",
    "* Colab documentation: https://colab.research.google.com/notebooks/intro.ipynb\n",
    "* Colab tutorials: https://colab.research.google.com/notebooks/tutorials.ipynb\n",
    "* Colab examples: https://colab.research.google.com/notebooks/examples.ipynb"
   ]
  },
  {
   "cell_type": "markdown",
   "metadata": {},
   "source": [
    "## Introduction to Kaggle"
   ]
  },
  {
   "cell_type": "markdown",
   "metadata": {},
   "source": [
    "### What is Kaggle?\n",
    "\n",
    "* A leading online platform for data science and machine learning competitions.\n",
    "* Offers a variety of competitions for all skill levels, from beginners to experts.\n",
    "* Provides a platform to showcase your skills, learn from others, and win prizes."
   ]
  },
  {
   "cell_type": "markdown",
   "metadata": {},
   "source": [
    "### Key Features:\n",
    "\n",
    "* **Competitions:** Participate in a wide range of data science competitions, covering various domains such as image recognition, natural language processing, and forecasting.\n",
    "* **Datasets:** Access a vast collection of high-quality datasets for your own projects.\n",
    "* **Notebooks:** Share and discover Jupyter notebooks related to data science and machine learning.\n",
    "* **Community:** Connect with a global community of data scientists and machine learning practitioners."
   ]
  },
  {
   "cell_type": "markdown",
   "metadata": {},
   "source": [
    "### Getting Started:\n",
    "\n",
    "* Visit https://www.kaggle.com to create a free account.\n",
    "* Join a competition or explore the available datasets.\n",
    "* Participate in discussions and learn from others in the community."
   ]
  },
  {
   "cell_type": "markdown",
   "metadata": {},
   "source": [
    "### Resources:\n",
    "\n",
    "* Kaggle documentation: https://www.kaggle.com/docs\n",
    "* Kaggle tutorials: https://www.kaggle.com/learn\n",
    "* Kaggle forums: https://www.kaggle.com/forums\n"
   ]
  },
  {
   "cell_type": "markdown",
   "metadata": {},
   "source": [
    "Now we can are ready for Hands-on."
   ]
  }
 ],
 "metadata": {
  "kernelspec": {
   "display_name": "Python 3 (ipykernel)",
   "language": "python",
   "name": "python3"
  },
  "language_info": {
   "codemirror_mode": {
    "name": "ipython",
    "version": 3
   },
   "file_extension": ".py",
   "mimetype": "text/x-python",
   "name": "python",
   "nbconvert_exporter": "python",
   "pygments_lexer": "ipython3",
   "version": "3.10.12"
  }
 },
 "nbformat": 4,
 "nbformat_minor": 2
}
